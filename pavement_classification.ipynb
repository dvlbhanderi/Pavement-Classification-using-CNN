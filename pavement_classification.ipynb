{
 "cells": [
  {
   "cell_type": "code",
   "execution_count": 1,
   "metadata": {},
   "outputs": [
    {
     "name": "stderr",
     "output_type": "stream",
     "text": [
      "Using TensorFlow backend.\n"
     ]
    }
   ],
   "source": [
    "from keras.preprocessing.image import ImageDataGenerator\n",
    "from keras.models import Sequential\n",
    "from keras.layers import Conv2D, MaxPooling2D\n",
    "from keras.layers import Activation, Dropout, Flatten, Dense\n",
    "from keras import backend as K\n",
    "\n",
    "train_data_dir = 'data/train'\n",
    "validation_data_dir = 'data/validation'\n",
    "nb_train_samples = 2000\n",
    "nb_validation_samples = 800\n",
    "epochs = 50\n",
    "batch_size = 16"
   ]
  },
  {
   "cell_type": "code",
   "execution_count": 2,
   "metadata": {},
   "outputs": [],
   "source": [
    "img_width, img_height = 150, 150"
   ]
  },
  {
   "cell_type": "code",
   "execution_count": 3,
   "metadata": {},
   "outputs": [],
   "source": [
    "train_data_dir = 'Pavement/train'\n",
    "validation_data_dir = 'Pavement/validation'\n",
    "nb_train_samples = 24\n",
    "nb_validation_samples = 4\n",
    "epochs = 50\n",
    "batch_size = 2"
   ]
  },
  {
   "cell_type": "code",
   "execution_count": 4,
   "metadata": {},
   "outputs": [],
   "source": [
    "if K.image_data_format() == 'channels_first':\n",
    "    input_shape = (3, img_width, img_height)\n",
    "else:\n",
    "    input_shape = (img_width, img_height, 3)"
   ]
  },
  {
   "cell_type": "code",
   "execution_count": 5,
   "metadata": {},
   "outputs": [],
   "source": [
    "model = Sequential()\n",
    "model.add(Conv2D(32, (3, 3), input_shape=input_shape))\n",
    "model.add(Activation('relu'))\n",
    "model.add(MaxPooling2D(pool_size=(2, 2)))\n",
    "\n",
    "model.add(Conv2D(32, (3, 3)))\n",
    "model.add(Activation('relu'))\n",
    "model.add(MaxPooling2D(pool_size=(2, 2)))\n",
    "\n",
    "model.add(Conv2D(64, (3, 3)))\n",
    "model.add(Activation('relu'))\n",
    "model.add(MaxPooling2D(pool_size=(2, 2)))\n",
    "\n",
    "model.add(Flatten())\n",
    "model.add(Dense(64))\n",
    "model.add(Activation('relu'))\n",
    "model.add(Dropout(0.5))\n",
    "model.add(Dense(1))\n",
    "model.add(Activation('sigmoid'))\n",
    "\n",
    "model.compile(loss='binary_crossentropy',\n",
    "              optimizer='rmsprop',\n",
    "              metrics=['accuracy'])"
   ]
  },
  {
   "cell_type": "code",
   "execution_count": 6,
   "metadata": {},
   "outputs": [],
   "source": [
    "train_datagen = ImageDataGenerator(\n",
    "    rescale=1. / 255,\n",
    "    shear_range=0.2,\n",
    "    zoom_range=0.2,\n",
    "    horizontal_flip=True)"
   ]
  },
  {
   "cell_type": "code",
   "execution_count": 7,
   "metadata": {},
   "outputs": [],
   "source": [
    "# this is the augmentation configuration we will use for testing:\n",
    "# only rescaling\n",
    "test_datagen = ImageDataGenerator(rescale=1. / 255)"
   ]
  },
  {
   "cell_type": "code",
   "execution_count": 8,
   "metadata": {},
   "outputs": [
    {
     "name": "stdout",
     "output_type": "stream",
     "text": [
      "Found 24 images belonging to 2 classes.\n"
     ]
    }
   ],
   "source": [
    "train_generator = train_datagen.flow_from_directory(\n",
    "    train_data_dir,\n",
    "    target_size=(img_width, img_height),\n",
    "    batch_size=batch_size,\n",
    "    class_mode='binary')"
   ]
  },
  {
   "cell_type": "code",
   "execution_count": 9,
   "metadata": {},
   "outputs": [
    {
     "name": "stdout",
     "output_type": "stream",
     "text": [
      "Found 4 images belonging to 2 classes.\n"
     ]
    }
   ],
   "source": [
    "validation_generator = test_datagen.flow_from_directory(\n",
    "    validation_data_dir,\n",
    "    target_size=(img_width, img_height),\n",
    "    batch_size=batch_size,\n",
    "    class_mode='binary')"
   ]
  },
  {
   "cell_type": "code",
   "execution_count": 10,
   "metadata": {},
   "outputs": [],
   "source": [
    "import sys\n",
    "from PIL import Image\n",
    "sys.modules['Image'] = Image "
   ]
  },
  {
   "cell_type": "code",
   "execution_count": 11,
   "metadata": {},
   "outputs": [
    {
     "name": "stdout",
     "output_type": "stream",
     "text": [
      "Epoch 1/50\n",
      "12/12 [==============================] - 2s 126ms/step - loss: 2.6671 - accuracy: 0.5833 - val_loss: 0.3439 - val_accuracy: 0.5000\n",
      "Epoch 2/50\n",
      "12/12 [==============================] - 2s 151ms/step - loss: 0.7963 - accuracy: 0.5000 - val_loss: 0.7007 - val_accuracy: 0.5000\n",
      "Epoch 3/50\n",
      "12/12 [==============================] - 2s 176ms/step - loss: 0.6943 - accuracy: 0.5833 - val_loss: 0.6740 - val_accuracy: 0.5000\n",
      "Epoch 4/50\n",
      "12/12 [==============================] - 2s 167ms/step - loss: 0.7616 - accuracy: 0.6667 - val_loss: 0.6984 - val_accuracy: 0.5000\n",
      "Epoch 5/50\n",
      "12/12 [==============================] - 2s 166ms/step - loss: 0.7415 - accuracy: 0.4583 - val_loss: 0.6910 - val_accuracy: 0.5000\n",
      "Epoch 6/50\n",
      "12/12 [==============================] - 2s 188ms/step - loss: 0.6976 - accuracy: 0.5000 - val_loss: 0.7090 - val_accuracy: 0.5000\n",
      "Epoch 7/50\n",
      "12/12 [==============================] - 2s 186ms/step - loss: 0.6877 - accuracy: 0.5833 - val_loss: 0.6944 - val_accuracy: 0.5000\n",
      "Epoch 8/50\n",
      "12/12 [==============================] - 2s 164ms/step - loss: 0.6853 - accuracy: 0.5833 - val_loss: 0.7186 - val_accuracy: 0.5000\n",
      "Epoch 9/50\n",
      "12/12 [==============================] - 2s 177ms/step - loss: 0.8328 - accuracy: 0.5417 - val_loss: 0.6965 - val_accuracy: 0.5000\n",
      "Epoch 10/50\n",
      "12/12 [==============================] - 2s 176ms/step - loss: 0.6976 - accuracy: 0.5833 - val_loss: 0.6960 - val_accuracy: 0.5000\n",
      "Epoch 11/50\n",
      "12/12 [==============================] - 2s 176ms/step - loss: 0.7532 - accuracy: 0.5417 - val_loss: 0.4889 - val_accuracy: 0.5000\n",
      "Epoch 12/50\n",
      "12/12 [==============================] - 2s 166ms/step - loss: 0.7076 - accuracy: 0.5833 - val_loss: 0.6950 - val_accuracy: 0.5000\n",
      "Epoch 13/50\n",
      "12/12 [==============================] - 2s 151ms/step - loss: 0.6784 - accuracy: 0.5833 - val_loss: 0.6995 - val_accuracy: 0.5000\n",
      "Epoch 14/50\n",
      "12/12 [==============================] - 2s 180ms/step - loss: 0.7096 - accuracy: 0.5833 - val_loss: 0.6967 - val_accuracy: 0.5000\n",
      "Epoch 15/50\n",
      "12/12 [==============================] - 2s 146ms/step - loss: 0.7561 - accuracy: 0.5000 - val_loss: 0.6970 - val_accuracy: 0.5000\n",
      "Epoch 16/50\n",
      "12/12 [==============================] - 2s 155ms/step - loss: 0.6717 - accuracy: 0.5833 - val_loss: 0.7018 - val_accuracy: 0.5000\n",
      "Epoch 17/50\n",
      "12/12 [==============================] - 2s 201ms/step - loss: 0.6782 - accuracy: 0.5833 - val_loss: 0.5671 - val_accuracy: 0.5000\n",
      "Epoch 18/50\n",
      "12/12 [==============================] - 2s 155ms/step - loss: 1.0302 - accuracy: 0.5417 - val_loss: 0.7156 - val_accuracy: 0.5000\n",
      "Epoch 19/50\n",
      "12/12 [==============================] - 2s 183ms/step - loss: 0.7141 - accuracy: 0.5417 - val_loss: 0.7012 - val_accuracy: 0.5000\n",
      "Epoch 20/50\n",
      "12/12 [==============================] - 2s 172ms/step - loss: 0.7048 - accuracy: 0.5417 - val_loss: 0.7002 - val_accuracy: 0.5000\n",
      "Epoch 21/50\n",
      "12/12 [==============================] - 2s 177ms/step - loss: 0.6751 - accuracy: 0.5833 - val_loss: 0.7005 - val_accuracy: 0.5000\n",
      "Epoch 22/50\n",
      "12/12 [==============================] - 2s 171ms/step - loss: 0.6758 - accuracy: 0.5833 - val_loss: 0.7062 - val_accuracy: 0.5000\n",
      "Epoch 23/50\n",
      "12/12 [==============================] - 2s 192ms/step - loss: 0.6934 - accuracy: 0.5833 - val_loss: 0.8434 - val_accuracy: 0.5000\n",
      "Epoch 24/50\n",
      "12/12 [==============================] - 2s 170ms/step - loss: 0.7016 - accuracy: 0.5417 - val_loss: 0.7037 - val_accuracy: 0.5000\n",
      "Epoch 25/50\n",
      "12/12 [==============================] - 2s 191ms/step - loss: 0.7311 - accuracy: 0.5833 - val_loss: 0.8164 - val_accuracy: 0.5000\n",
      "Epoch 26/50\n",
      "12/12 [==============================] - 2s 167ms/step - loss: 0.6552 - accuracy: 0.5833 - val_loss: 0.7060 - val_accuracy: 0.5000\n",
      "Epoch 27/50\n",
      "12/12 [==============================] - 2s 190ms/step - loss: 0.6761 - accuracy: 0.5833 - val_loss: 0.7056 - val_accuracy: 0.5000\n",
      "Epoch 28/50\n",
      "12/12 [==============================] - 2s 152ms/step - loss: 0.7061 - accuracy: 0.5833 - val_loss: 0.7022 - val_accuracy: 0.5000\n",
      "Epoch 29/50\n",
      "12/12 [==============================] - 2s 186ms/step - loss: 0.7064 - accuracy: 0.5833 - val_loss: 0.6232 - val_accuracy: 0.5000\n",
      "Epoch 30/50\n",
      "12/12 [==============================] - 2s 188ms/step - loss: 0.6975 - accuracy: 0.5417 - val_loss: 0.9244 - val_accuracy: 0.5000\n",
      "Epoch 31/50\n",
      "12/12 [==============================] - 2s 182ms/step - loss: 0.8625 - accuracy: 0.5417 - val_loss: 0.6977 - val_accuracy: 0.5000\n",
      "Epoch 32/50\n",
      "12/12 [==============================] - 2s 183ms/step - loss: 0.6945 - accuracy: 0.5000 - val_loss: 0.6967 - val_accuracy: 0.5000\n",
      "Epoch 33/50\n",
      "12/12 [==============================] - 2s 165ms/step - loss: 0.8645 - accuracy: 0.5833 - val_loss: 0.9172 - val_accuracy: 0.5000\n",
      "Epoch 34/50\n",
      "12/12 [==============================] - 2s 145ms/step - loss: 0.6996 - accuracy: 0.5833 - val_loss: 0.7891 - val_accuracy: 0.5000\n",
      "Epoch 35/50\n",
      "12/12 [==============================] - 2s 171ms/step - loss: 0.8367 - accuracy: 0.5000 - val_loss: 0.6935 - val_accuracy: 0.5000\n",
      "Epoch 36/50\n",
      "12/12 [==============================] - 2s 171ms/step - loss: 0.6984 - accuracy: 0.5417 - val_loss: 0.6938 - val_accuracy: 0.5000\n",
      "Epoch 37/50\n",
      "12/12 [==============================] - 2s 152ms/step - loss: 0.6843 - accuracy: 0.6250 - val_loss: 0.6975 - val_accuracy: 0.5000\n",
      "Epoch 38/50\n",
      "12/12 [==============================] - 2s 180ms/step - loss: 0.7207 - accuracy: 0.5417 - val_loss: 0.7052 - val_accuracy: 0.5000\n",
      "Epoch 39/50\n",
      "12/12 [==============================] - 2s 144ms/step - loss: 0.6689 - accuracy: 0.5833 - val_loss: 0.6978 - val_accuracy: 0.5000\n",
      "Epoch 40/50\n",
      "12/12 [==============================] - 2s 167ms/step - loss: 0.7353 - accuracy: 0.4583 - val_loss: 0.7003 - val_accuracy: 0.5000\n",
      "Epoch 41/50\n",
      "12/12 [==============================] - 2s 139ms/step - loss: 0.7225 - accuracy: 0.5833 - val_loss: 0.7711 - val_accuracy: 0.5000\n",
      "Epoch 42/50\n",
      "12/12 [==============================] - 2s 164ms/step - loss: 0.6920 - accuracy: 0.5417 - val_loss: 0.6916 - val_accuracy: 0.5000\n",
      "Epoch 43/50\n",
      "12/12 [==============================] - 2s 186ms/step - loss: 0.7033 - accuracy: 0.6667 - val_loss: 0.6949 - val_accuracy: 0.5000\n",
      "Epoch 44/50\n",
      "12/12 [==============================] - 2s 185ms/step - loss: 0.7149 - accuracy: 0.6250 - val_loss: 0.7208 - val_accuracy: 0.5000\n",
      "Epoch 45/50\n",
      "12/12 [==============================] - 2s 180ms/step - loss: 1.0263 - accuracy: 0.5000 - val_loss: 0.7001 - val_accuracy: 0.2500\n",
      "Epoch 46/50\n",
      "12/12 [==============================] - 2s 154ms/step - loss: 0.6980 - accuracy: 0.4583 - val_loss: 0.7387 - val_accuracy: 0.5000\n",
      "Epoch 47/50\n",
      "12/12 [==============================] - 2s 155ms/step - loss: 0.6921 - accuracy: 0.5833 - val_loss: 0.5669 - val_accuracy: 0.5000\n",
      "Epoch 48/50\n",
      "12/12 [==============================] - 2s 201ms/step - loss: 0.6913 - accuracy: 0.5833 - val_loss: 0.8374 - val_accuracy: 0.5000\n",
      "Epoch 49/50\n",
      "12/12 [==============================] - 2s 179ms/step - loss: 0.9996 - accuracy: 0.6667 - val_loss: 0.7256 - val_accuracy: 0.5000\n",
      "Epoch 50/50\n",
      "12/12 [==============================] - 2s 175ms/step - loss: 0.7403 - accuracy: 0.6250 - val_loss: 0.7020 - val_accuracy: 0.5000\n"
     ]
    },
    {
     "data": {
      "text/plain": [
       "<keras.callbacks.callbacks.History at 0x7fc9082fe1d0>"
      ]
     },
     "execution_count": 11,
     "metadata": {},
     "output_type": "execute_result"
    }
   ],
   "source": [
    "model.fit_generator(\n",
    "    train_generator,\n",
    "    steps_per_epoch=nb_train_samples // batch_size,\n",
    "    epochs=epochs,\n",
    "    validation_data=validation_generator,\n",
    "    validation_steps=nb_validation_samples // batch_size)"
   ]
  },
  {
   "cell_type": "code",
   "execution_count": 12,
   "metadata": {},
   "outputs": [],
   "source": [
    "model.save_weights('first_try.h5')"
   ]
  },
  {
   "cell_type": "code",
   "execution_count": null,
   "metadata": {},
   "outputs": [],
   "source": []
  }
 ],
 "metadata": {
  "kernelspec": {
   "display_name": "Python 3",
   "language": "python",
   "name": "python3"
  },
  "language_info": {
   "codemirror_mode": {
    "name": "ipython",
    "version": 3
   },
   "file_extension": ".py",
   "mimetype": "text/x-python",
   "name": "python",
   "nbconvert_exporter": "python",
   "pygments_lexer": "ipython3",
   "version": "3.7.3"
  }
 },
 "nbformat": 4,
 "nbformat_minor": 2
}
