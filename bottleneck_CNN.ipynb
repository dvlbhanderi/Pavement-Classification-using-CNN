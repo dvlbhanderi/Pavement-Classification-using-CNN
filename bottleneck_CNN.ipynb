{
 "cells": [
  {
   "cell_type": "code",
   "execution_count": 30,
   "metadata": {},
   "outputs": [],
   "source": [
    "import numpy as np\n",
    "from keras.preprocessing.image import ImageDataGenerator\n",
    "from keras.models import Sequential\n",
    "from keras.layers import Dropout, Flatten, Dense\n",
    "from keras import applications"
   ]
  },
  {
   "cell_type": "code",
   "execution_count": 31,
   "metadata": {},
   "outputs": [],
   "source": [
    "# dimensions of our images.\n",
    "img_width, img_height = 300, 300"
   ]
  },
  {
   "cell_type": "code",
   "execution_count": 32,
   "metadata": {},
   "outputs": [],
   "source": [
    "top_model_weights_path = 'bottleneck_fc_model.h5'\n",
    "train_data_dir = 'Pavement/train'\n",
    "validation_data_dir = 'Pavement/validation'\n",
    "nb_train_samples = 24\n",
    "nb_validation_samples = 4\n",
    "epochs = 50\n",
    "batch_size = 2"
   ]
  },
  {
   "cell_type": "code",
   "execution_count": 33,
   "metadata": {},
   "outputs": [],
   "source": [
    "def save_bottlebeck_features():\n",
    "    datagen = ImageDataGenerator(rescale=1. / 255)\n",
    "\n",
    "    # build the VGG16 network\n",
    "    model = applications.VGG16(include_top=False, weights='imagenet')\n",
    "\n",
    "    generator = datagen.flow_from_directory(\n",
    "        train_data_dir,\n",
    "        target_size=(img_width, img_height),\n",
    "        batch_size=batch_size,\n",
    "        class_mode=None,\n",
    "        shuffle=False)\n",
    "    bottleneck_features_train = model.predict_generator(\n",
    "        generator, nb_train_samples // batch_size)\n",
    "    np.save(open('bottleneck_features_train.npy', 'wb'),\n",
    "            bottleneck_features_train)\n",
    "\n",
    "    generator = datagen.flow_from_directory(\n",
    "        validation_data_dir,\n",
    "        target_size=(img_width, img_height),\n",
    "        batch_size=batch_size,\n",
    "        class_mode=None,\n",
    "        shuffle=False)\n",
    "    bottleneck_features_validation = model.predict_generator(\n",
    "        generator, nb_validation_samples // batch_size)\n",
    "    np.save(open('bottleneck_features_validation.npy', 'wb'),\n",
    "            bottleneck_features_validation)"
   ]
  },
  {
   "cell_type": "code",
   "execution_count": 34,
   "metadata": {},
   "outputs": [],
   "source": [
    "def train_top_model():\n",
    "    train_data = np.load(open('bottleneck_features_train.npy', 'rb'))\n",
    "    train_labels = np.array(\n",
    "        [0] * int(nb_train_samples / 2) + [1] * int(nb_train_samples / 2))\n",
    "\n",
    "    validation_data = np.load(open('bottleneck_features_validation.npy', 'rb'))\n",
    "    validation_labels = np.array(\n",
    "        [0] * int(nb_validation_samples / 2) + [1] * int(nb_validation_samples / 2))\n",
    "    \n",
    "    model = Sequential()\n",
    "    model.add(Flatten(input_shape=train_data.shape[1:]))\n",
    "    model.add(Dense(256, activation='relu'))\n",
    "    model.add(Dropout(0.5))\n",
    "    model.add(Dense(1, activation='sigmoid'))\n",
    "\n",
    "    model.compile(optimizer='rmsprop',\n",
    "                  loss='binary_crossentropy', metrics=['accuracy'])\n",
    "\n",
    "    model.fit(train_data, train_labels,\n",
    "              epochs=epochs,\n",
    "              batch_size=batch_size,\n",
    "              validation_data=(validation_data, validation_labels))\n",
    "    model.save_weights(top_model_weights_path)\n",
    "    \n",
    "    #test\n",
    "    scores = model.evaluate(test_data, test_labels, verbose=0)"
   ]
  },
  {
   "cell_type": "code",
   "execution_count": 14,
   "metadata": {},
   "outputs": [
    {
     "name": "stdout",
     "output_type": "stream",
     "text": [
      "Found 24 images belonging to 2 classes.\n",
      "Found 4 images belonging to 2 classes.\n"
     ]
    }
   ],
   "source": [
    "save_bottlebeck_features()"
   ]
  },
  {
   "cell_type": "code",
   "execution_count": 19,
   "metadata": {},
   "outputs": [
    {
     "name": "stdout",
     "output_type": "stream",
     "text": [
      "Train on 24 samples, validate on 4 samples\n",
      "Epoch 1/50\n",
      "24/24 [==============================] - 1s 56ms/step - loss: 7.2765 - accuracy: 0.5417 - val_loss: 3.0043 - val_accuracy: 0.5000\n",
      "Epoch 2/50\n",
      "24/24 [==============================] - 1s 36ms/step - loss: 3.8883 - accuracy: 0.5833 - val_loss: 0.3620 - val_accuracy: 0.7500\n",
      "Epoch 3/50\n",
      "24/24 [==============================] - 1s 37ms/step - loss: 1.2969 - accuracy: 0.7083 - val_loss: 0.2616 - val_accuracy: 0.7500\n",
      "Epoch 4/50\n",
      "24/24 [==============================] - 1s 38ms/step - loss: 1.2329 - accuracy: 0.7917 - val_loss: 1.9924 - val_accuracy: 0.5000\n",
      "Epoch 5/50\n",
      "24/24 [==============================] - 1s 37ms/step - loss: 0.9868 - accuracy: 0.8750 - val_loss: 0.0226 - val_accuracy: 1.0000\n",
      "Epoch 6/50\n",
      "24/24 [==============================] - 1s 41ms/step - loss: 0.4200 - accuracy: 0.9167 - val_loss: 0.3922 - val_accuracy: 0.7500\n",
      "Epoch 7/50\n",
      "24/24 [==============================] - 1s 36ms/step - loss: 0.5109 - accuracy: 0.8333 - val_loss: 0.3177 - val_accuracy: 0.7500\n",
      "Epoch 8/50\n",
      "24/24 [==============================] - 1s 37ms/step - loss: 0.3215 - accuracy: 0.8750 - val_loss: 0.0187 - val_accuracy: 1.0000\n",
      "Epoch 9/50\n",
      "24/24 [==============================] - 1s 38ms/step - loss: 0.5129 - accuracy: 0.8333 - val_loss: 0.0142 - val_accuracy: 1.0000\n",
      "Epoch 10/50\n",
      "24/24 [==============================] - 1s 42ms/step - loss: 0.1567 - accuracy: 0.9167 - val_loss: 0.0317 - val_accuracy: 1.0000\n",
      "Epoch 11/50\n",
      "24/24 [==============================] - 1s 35ms/step - loss: 0.3587 - accuracy: 0.8750 - val_loss: 0.0159 - val_accuracy: 1.0000\n",
      "Epoch 12/50\n",
      "24/24 [==============================] - 1s 39ms/step - loss: 0.1680 - accuracy: 0.8750 - val_loss: 0.1019 - val_accuracy: 1.0000\n",
      "Epoch 13/50\n",
      "24/24 [==============================] - 1s 36ms/step - loss: 0.4077 - accuracy: 0.9167 - val_loss: 0.0230 - val_accuracy: 1.0000\n",
      "Epoch 14/50\n",
      "24/24 [==============================] - 1s 40ms/step - loss: 0.0367 - accuracy: 1.0000 - val_loss: 0.0099 - val_accuracy: 1.0000\n",
      "Epoch 15/50\n",
      "24/24 [==============================] - 1s 44ms/step - loss: 0.0409 - accuracy: 1.0000 - val_loss: 0.0069 - val_accuracy: 1.0000\n",
      "Epoch 16/50\n",
      "24/24 [==============================] - 1s 39ms/step - loss: 0.1287 - accuracy: 0.9167 - val_loss: 0.0072 - val_accuracy: 1.0000\n",
      "Epoch 17/50\n",
      "24/24 [==============================] - 1s 38ms/step - loss: 0.0397 - accuracy: 1.0000 - val_loss: 0.0220 - val_accuracy: 1.0000\n",
      "Epoch 18/50\n",
      "24/24 [==============================] - 1s 40ms/step - loss: 0.2891 - accuracy: 0.8333 - val_loss: 0.0573 - val_accuracy: 1.0000\n",
      "Epoch 19/50\n",
      "24/24 [==============================] - 1s 37ms/step - loss: 0.0537 - accuracy: 1.0000 - val_loss: 0.0025 - val_accuracy: 1.0000\n",
      "Epoch 20/50\n",
      "24/24 [==============================] - 1s 43ms/step - loss: 0.1996 - accuracy: 0.8750 - val_loss: 0.0028 - val_accuracy: 1.0000\n",
      "Epoch 21/50\n",
      "24/24 [==============================] - 1s 38ms/step - loss: 0.0030 - accuracy: 1.0000 - val_loss: 0.0018 - val_accuracy: 1.0000\n",
      "Epoch 22/50\n",
      "24/24 [==============================] - 1s 42ms/step - loss: 0.0028 - accuracy: 1.0000 - val_loss: 7.5397e-04 - val_accuracy: 1.0000\n",
      "Epoch 23/50\n",
      "24/24 [==============================] - 1s 39ms/step - loss: 0.0225 - accuracy: 1.0000 - val_loss: 0.0109 - val_accuracy: 1.0000\n",
      "Epoch 24/50\n",
      "24/24 [==============================] - 1s 39ms/step - loss: 0.2443 - accuracy: 0.8750 - val_loss: 0.0600 - val_accuracy: 1.0000\n",
      "Epoch 25/50\n",
      "24/24 [==============================] - 1s 40ms/step - loss: 0.0072 - accuracy: 1.0000 - val_loss: 6.7842e-04 - val_accuracy: 1.0000\n",
      "Epoch 26/50\n",
      "24/24 [==============================] - 1s 39ms/step - loss: 0.0650 - accuracy: 0.9583 - val_loss: 0.0015 - val_accuracy: 1.0000\n",
      "Epoch 27/50\n",
      "24/24 [==============================] - 1s 43ms/step - loss: 0.0030 - accuracy: 1.0000 - val_loss: 0.0010 - val_accuracy: 1.0000\n",
      "Epoch 28/50\n",
      "24/24 [==============================] - 1s 40ms/step - loss: 0.0016 - accuracy: 1.0000 - val_loss: 1.5065e-04 - val_accuracy: 1.0000\n",
      "Epoch 29/50\n",
      "24/24 [==============================] - 1s 43ms/step - loss: 0.0056 - accuracy: 1.0000 - val_loss: 1.4064e-04 - val_accuracy: 1.0000\n",
      "Epoch 30/50\n",
      "24/24 [==============================] - 1s 41ms/step - loss: 0.0459 - accuracy: 1.0000 - val_loss: 2.9845e-04 - val_accuracy: 1.0000\n",
      "Epoch 31/50\n",
      "24/24 [==============================] - 1s 41ms/step - loss: 0.0424 - accuracy: 0.9583 - val_loss: 6.5472e-04 - val_accuracy: 1.0000\n",
      "Epoch 32/50\n",
      "24/24 [==============================] - 1s 40ms/step - loss: 0.0727 - accuracy: 0.9167 - val_loss: 0.0116 - val_accuracy: 1.0000\n",
      "Epoch 33/50\n",
      "24/24 [==============================] - 1s 40ms/step - loss: 0.0421 - accuracy: 1.0000 - val_loss: 1.3901e-04 - val_accuracy: 1.0000\n",
      "Epoch 34/50\n",
      "24/24 [==============================] - 1s 38ms/step - loss: 0.0200 - accuracy: 1.0000 - val_loss: 0.0068 - val_accuracy: 1.0000\n",
      "Epoch 35/50\n",
      "24/24 [==============================] - 1s 40ms/step - loss: 0.0018 - accuracy: 1.0000 - val_loss: 7.3355e-05 - val_accuracy: 1.0000\n",
      "Epoch 36/50\n",
      "24/24 [==============================] - 1s 40ms/step - loss: 9.8717e-04 - accuracy: 1.0000 - val_loss: 3.5901e-05 - val_accuracy: 1.0000\n",
      "Epoch 37/50\n",
      "24/24 [==============================] - 1s 39ms/step - loss: 0.0022 - accuracy: 1.0000 - val_loss: 3.3858e-04 - val_accuracy: 1.0000\n",
      "Epoch 38/50\n",
      "24/24 [==============================] - 1s 40ms/step - loss: 0.1192 - accuracy: 0.9167 - val_loss: 0.0038 - val_accuracy: 1.0000\n",
      "Epoch 39/50\n",
      "24/24 [==============================] - 1s 42ms/step - loss: 0.0057 - accuracy: 1.0000 - val_loss: 2.0234e-05 - val_accuracy: 1.0000\n",
      "Epoch 40/50\n",
      "24/24 [==============================] - 1s 40ms/step - loss: 8.1652e-04 - accuracy: 1.0000 - val_loss: 1.6878e-05 - val_accuracy: 1.0000\n",
      "Epoch 41/50\n",
      "24/24 [==============================] - 1s 41ms/step - loss: 0.0177 - accuracy: 1.0000 - val_loss: 3.8742e-04 - val_accuracy: 1.0000\n",
      "Epoch 42/50\n",
      "24/24 [==============================] - 1s 42ms/step - loss: 0.0946 - accuracy: 0.9583 - val_loss: 2.2126e-05 - val_accuracy: 1.0000\n",
      "Epoch 43/50\n",
      "24/24 [==============================] - 1s 39ms/step - loss: 0.0116 - accuracy: 1.0000 - val_loss: 4.3174e-05 - val_accuracy: 1.0000\n",
      "Epoch 44/50\n",
      "24/24 [==============================] - 1s 39ms/step - loss: 0.0910 - accuracy: 0.9583 - val_loss: 1.8552e-04 - val_accuracy: 1.0000\n",
      "Epoch 45/50\n",
      "24/24 [==============================] - 1s 41ms/step - loss: 2.7198e-04 - accuracy: 1.0000 - val_loss: 1.1815e-04 - val_accuracy: 1.0000\n",
      "Epoch 46/50\n",
      "24/24 [==============================] - 1s 41ms/step - loss: 1.7339e-04 - accuracy: 1.0000 - val_loss: 4.5380e-05 - val_accuracy: 1.0000\n",
      "Epoch 47/50\n",
      "24/24 [==============================] - 1s 39ms/step - loss: 3.5481e-05 - accuracy: 1.0000 - val_loss: 1.7486e-05 - val_accuracy: 1.0000\n",
      "Epoch 48/50\n",
      "24/24 [==============================] - 1s 43ms/step - loss: 3.6470e-04 - accuracy: 1.0000 - val_loss: 2.5017e-06 - val_accuracy: 1.0000\n",
      "Epoch 49/50\n",
      "24/24 [==============================] - 1s 39ms/step - loss: 0.0022 - accuracy: 1.0000 - val_loss: 1.1176e-06 - val_accuracy: 1.0000\n",
      "Epoch 50/50\n",
      "24/24 [==============================] - 1s 38ms/step - loss: 0.0023 - accuracy: 1.0000 - val_loss: 7.2118e-05 - val_accuracy: 1.0000\n"
     ]
    }
   ],
   "source": [
    "train_top_model()"
   ]
  },
  {
   "cell_type": "raw",
   "metadata": {},
   "source": []
  },
  {
   "cell_type": "code",
   "execution_count": 39,
   "metadata": {},
   "outputs": [
    {
     "ename": "ValueError",
     "evalue": "Cannot create group in read-only mode.",
     "output_type": "error",
     "traceback": [
      "\u001b[0;31m---------------------------------------------------------------------------\u001b[0m",
      "\u001b[0;31mValueError\u001b[0m                                Traceback (most recent call last)",
      "\u001b[0;32m<ipython-input-39-eeed7e376dde>\u001b[0m in \u001b[0;36m<module>\u001b[0;34m\u001b[0m\n\u001b[1;32m      1\u001b[0m \u001b[0;32mfrom\u001b[0m \u001b[0mkeras\u001b[0m\u001b[0;34m.\u001b[0m\u001b[0mmodels\u001b[0m \u001b[0;32mimport\u001b[0m \u001b[0mload_model\u001b[0m\u001b[0;34m\u001b[0m\u001b[0m\n\u001b[1;32m      2\u001b[0m \u001b[0;34m\u001b[0m\u001b[0m\n\u001b[0;32m----> 3\u001b[0;31m \u001b[0mmodel\u001b[0m \u001b[0;34m=\u001b[0m \u001b[0mload_model\u001b[0m\u001b[0;34m(\u001b[0m\u001b[0;34m'bottleneck_fc_model.h5'\u001b[0m\u001b[0;34m)\u001b[0m\u001b[0;34m\u001b[0m\u001b[0m\n\u001b[0m",
      "\u001b[0;32m~/anaconda3/envs/DeepNetsForEO/lib/python3.6/site-packages/keras/engine/saving.py\u001b[0m in \u001b[0;36mload_wrapper\u001b[0;34m(*args, **kwargs)\u001b[0m\n\u001b[1;32m    490\u001b[0m                 \u001b[0mos\u001b[0m\u001b[0;34m.\u001b[0m\u001b[0mremove\u001b[0m\u001b[0;34m(\u001b[0m\u001b[0mtmp_filepath\u001b[0m\u001b[0;34m)\u001b[0m\u001b[0;34m\u001b[0m\u001b[0m\n\u001b[1;32m    491\u001b[0m             \u001b[0;32mreturn\u001b[0m \u001b[0mres\u001b[0m\u001b[0;34m\u001b[0m\u001b[0m\n\u001b[0;32m--> 492\u001b[0;31m         \u001b[0;32mreturn\u001b[0m \u001b[0mload_function\u001b[0m\u001b[0;34m(\u001b[0m\u001b[0;34m*\u001b[0m\u001b[0margs\u001b[0m\u001b[0;34m,\u001b[0m \u001b[0;34m**\u001b[0m\u001b[0mkwargs\u001b[0m\u001b[0;34m)\u001b[0m\u001b[0;34m\u001b[0m\u001b[0m\n\u001b[0m\u001b[1;32m    493\u001b[0m \u001b[0;34m\u001b[0m\u001b[0m\n\u001b[1;32m    494\u001b[0m     \u001b[0;32mreturn\u001b[0m \u001b[0mload_wrapper\u001b[0m\u001b[0;34m\u001b[0m\u001b[0m\n",
      "\u001b[0;32m~/anaconda3/envs/DeepNetsForEO/lib/python3.6/site-packages/keras/engine/saving.py\u001b[0m in \u001b[0;36mload_model\u001b[0;34m(filepath, custom_objects, compile)\u001b[0m\n\u001b[1;32m    582\u001b[0m     \u001b[0;32mif\u001b[0m \u001b[0mH5Dict\u001b[0m\u001b[0;34m.\u001b[0m\u001b[0mis_supported_type\u001b[0m\u001b[0;34m(\u001b[0m\u001b[0mfilepath\u001b[0m\u001b[0;34m)\u001b[0m\u001b[0;34m:\u001b[0m\u001b[0;34m\u001b[0m\u001b[0m\n\u001b[1;32m    583\u001b[0m         \u001b[0;32mwith\u001b[0m \u001b[0mH5Dict\u001b[0m\u001b[0;34m(\u001b[0m\u001b[0mfilepath\u001b[0m\u001b[0;34m,\u001b[0m \u001b[0mmode\u001b[0m\u001b[0;34m=\u001b[0m\u001b[0;34m'r'\u001b[0m\u001b[0;34m)\u001b[0m \u001b[0;32mas\u001b[0m \u001b[0mh5dict\u001b[0m\u001b[0;34m:\u001b[0m\u001b[0;34m\u001b[0m\u001b[0m\n\u001b[0;32m--> 584\u001b[0;31m             \u001b[0mmodel\u001b[0m \u001b[0;34m=\u001b[0m \u001b[0m_deserialize_model\u001b[0m\u001b[0;34m(\u001b[0m\u001b[0mh5dict\u001b[0m\u001b[0;34m,\u001b[0m \u001b[0mcustom_objects\u001b[0m\u001b[0;34m,\u001b[0m \u001b[0mcompile\u001b[0m\u001b[0;34m)\u001b[0m\u001b[0;34m\u001b[0m\u001b[0m\n\u001b[0m\u001b[1;32m    585\u001b[0m     \u001b[0;32melif\u001b[0m \u001b[0mhasattr\u001b[0m\u001b[0;34m(\u001b[0m\u001b[0mfilepath\u001b[0m\u001b[0;34m,\u001b[0m \u001b[0;34m'write'\u001b[0m\u001b[0;34m)\u001b[0m \u001b[0;32mand\u001b[0m \u001b[0mcallable\u001b[0m\u001b[0;34m(\u001b[0m\u001b[0mfilepath\u001b[0m\u001b[0;34m.\u001b[0m\u001b[0mwrite\u001b[0m\u001b[0;34m)\u001b[0m\u001b[0;34m:\u001b[0m\u001b[0;34m\u001b[0m\u001b[0m\n\u001b[1;32m    586\u001b[0m         \u001b[0;32mdef\u001b[0m \u001b[0mload_function\u001b[0m\u001b[0;34m(\u001b[0m\u001b[0mh5file\u001b[0m\u001b[0;34m)\u001b[0m\u001b[0;34m:\u001b[0m\u001b[0;34m\u001b[0m\u001b[0m\n",
      "\u001b[0;32m~/anaconda3/envs/DeepNetsForEO/lib/python3.6/site-packages/keras/engine/saving.py\u001b[0m in \u001b[0;36m_deserialize_model\u001b[0;34m(h5dict, custom_objects, compile)\u001b[0m\n\u001b[1;32m    268\u001b[0m         \u001b[0;32mreturn\u001b[0m \u001b[0mobj\u001b[0m\u001b[0;34m\u001b[0m\u001b[0m\n\u001b[1;32m    269\u001b[0m \u001b[0;34m\u001b[0m\u001b[0m\n\u001b[0;32m--> 270\u001b[0;31m     \u001b[0mmodel_config\u001b[0m \u001b[0;34m=\u001b[0m \u001b[0mh5dict\u001b[0m\u001b[0;34m[\u001b[0m\u001b[0;34m'model_config'\u001b[0m\u001b[0;34m]\u001b[0m\u001b[0;34m\u001b[0m\u001b[0m\n\u001b[0m\u001b[1;32m    271\u001b[0m     \u001b[0;32mif\u001b[0m \u001b[0mmodel_config\u001b[0m \u001b[0;32mis\u001b[0m \u001b[0;32mNone\u001b[0m\u001b[0;34m:\u001b[0m\u001b[0;34m\u001b[0m\u001b[0m\n\u001b[1;32m    272\u001b[0m         \u001b[0;32mraise\u001b[0m \u001b[0mValueError\u001b[0m\u001b[0;34m(\u001b[0m\u001b[0;34m'No model found in config.'\u001b[0m\u001b[0;34m)\u001b[0m\u001b[0;34m\u001b[0m\u001b[0m\n",
      "\u001b[0;32m~/anaconda3/envs/DeepNetsForEO/lib/python3.6/site-packages/keras/utils/io_utils.py\u001b[0m in \u001b[0;36m__getitem__\u001b[0;34m(self, attr)\u001b[0m\n\u001b[1;32m    316\u001b[0m             \u001b[0;32melse\u001b[0m\u001b[0;34m:\u001b[0m\u001b[0;34m\u001b[0m\u001b[0m\n\u001b[1;32m    317\u001b[0m                 \u001b[0;32mif\u001b[0m \u001b[0mself\u001b[0m\u001b[0;34m.\u001b[0m\u001b[0mread_only\u001b[0m\u001b[0;34m:\u001b[0m\u001b[0;34m\u001b[0m\u001b[0m\n\u001b[0;32m--> 318\u001b[0;31m                     \u001b[0;32mraise\u001b[0m \u001b[0mValueError\u001b[0m\u001b[0;34m(\u001b[0m\u001b[0;34m'Cannot create group in read-only mode.'\u001b[0m\u001b[0;34m)\u001b[0m\u001b[0;34m\u001b[0m\u001b[0m\n\u001b[0m\u001b[1;32m    319\u001b[0m                 \u001b[0mval\u001b[0m \u001b[0;34m=\u001b[0m \u001b[0mH5Dict\u001b[0m\u001b[0;34m(\u001b[0m\u001b[0mself\u001b[0m\u001b[0;34m.\u001b[0m\u001b[0mdata\u001b[0m\u001b[0;34m.\u001b[0m\u001b[0mcreate_group\u001b[0m\u001b[0;34m(\u001b[0m\u001b[0mattr\u001b[0m\u001b[0;34m)\u001b[0m\u001b[0;34m)\u001b[0m\u001b[0;34m\u001b[0m\u001b[0m\n\u001b[1;32m    320\u001b[0m         \u001b[0;32mreturn\u001b[0m \u001b[0mval\u001b[0m\u001b[0;34m\u001b[0m\u001b[0m\n",
      "\u001b[0;31mValueError\u001b[0m: Cannot create group in read-only mode."
     ]
    }
   ],
   "source": [
    "from keras.models import load_model\n",
    "\n",
    "model = load_model('bottleneck_fc_model.h5')"
   ]
  },
  {
   "cell_type": "code",
   "execution_count": null,
   "metadata": {},
   "outputs": [],
   "source": []
  }
 ],
 "metadata": {
  "kernelspec": {
   "display_name": "Python 3",
   "language": "python",
   "name": "python3"
  },
  "language_info": {
   "codemirror_mode": {
    "name": "ipython",
    "version": 3
   },
   "file_extension": ".py",
   "mimetype": "text/x-python",
   "name": "python",
   "nbconvert_exporter": "python",
   "pygments_lexer": "ipython3",
   "version": "3.7.3"
  }
 },
 "nbformat": 4,
 "nbformat_minor": 2
}
